{
 "cells": [
  {
   "cell_type": "code",
   "execution_count": 85,
   "metadata": {},
   "outputs": [
    {
     "name": "stderr",
     "output_type": "stream",
     "text": [
      "C:\\Users\\giuli\\AppData\\Local\\Temp\\ipykernel_24728\\3543820015.py:3: DtypeWarning: Columns (1,9,28,46) have mixed types. Specify dtype option on import or set low_memory=False.\n",
      "  df = pd.read_csv('data/SWaT_Dataset_Attack_v0_to_mod.CSV', delimiter=';', decimal=',')\n"
     ]
    },
    {
     "data": {
      "text/plain": [
       "Index(['Timestamp', 'FIT101', 'LIT101', ' MV101', 'P101', 'P102', ' AIT201',\n",
       "       'AIT202', 'AIT203', 'FIT201', ' MV201', ' P201', ' P202', 'P203',\n",
       "       ' P204', 'P205', 'P206', 'DPIT301', 'FIT301', 'LIT301', 'MV301',\n",
       "       'MV302', ' MV303', 'MV304', 'P301', 'P302', 'AIT401', 'AIT402',\n",
       "       'FIT401', 'LIT401', 'P401', 'P402', 'P403', 'P404', 'UV401', 'AIT501',\n",
       "       'AIT502', 'AIT503', 'AIT504', 'FIT501', 'FIT502', 'FIT503', 'FIT504',\n",
       "       'P501', 'P502', 'PIT501', 'PIT502', 'PIT503', 'FIT601', 'P601', 'P602',\n",
       "       'P603', 'Normal/Attack'],\n",
       "      dtype='object')"
      ]
     },
     "execution_count": 85,
     "metadata": {},
     "output_type": "execute_result"
    }
   ],
   "source": [
    "import pandas as pd\n",
    "\n",
    "df = pd.read_csv('data/SWaT_Dataset_Attack_v0_to_mod.CSV', delimiter=';', decimal=',')\n",
    "df.columns\n",
    "df = df.rename(columns={\" Timestamp\":\"Timestamp\"})\n",
    "df.columns"
   ]
  },
  {
   "cell_type": "code",
   "execution_count": 86,
   "metadata": {},
   "outputs": [],
   "source": [
    "def zero_pad_timestamp(timestamp_str):\n",
    "    if len(timestamp_str.split(' '))==3:\n",
    "        date_part, time_part, part = timestamp_str.split(' ')\n",
    "        day, month, year = date_part.split('/')\n",
    "        hours, minutes, seconds = time_part.split(':')\n",
    "    if len(timestamp_str.split(' '))==4:\n",
    "        _, date_part, time_part, part = timestamp_str.split(' ')\n",
    "        day, month, year = date_part.split('/')\n",
    "        hours, minutes, seconds = time_part.split(':')\n",
    "\n",
    "    time_part_padded = f'{hours.zfill(2)}:{minutes.zfill(2)}:{seconds.zfill(2)}'\n",
    "    date_part_padded = f'{day.zfill(2)}/{month.zfill(2)}/{year.zfill(2)}'\n",
    "\n",
    "    return f\"{date_part_padded} {time_part_padded} {part}\""
   ]
  },
  {
   "cell_type": "code",
   "execution_count": 87,
   "metadata": {},
   "outputs": [
    {
     "data": {
      "text/plain": [
       "0         28/12/2015 10:00:00 AM\n",
       "1         28/12/2015 10:00:01 AM\n",
       "2         28/12/2015 10:00:02 AM\n",
       "3         28/12/2015 10:00:03 AM\n",
       "4         28/12/2015 10:00:04 AM\n",
       "                   ...          \n",
       "449914    02/01/2016 02:59:55 PM\n",
       "449915    02/01/2016 02:59:56 PM\n",
       "449916    02/01/2016 02:59:57 PM\n",
       "449917    02/01/2016 02:59:58 PM\n",
       "449918    02/01/2016 02:59:59 PM\n",
       "Name: Timestamp, Length: 449919, dtype: object"
      ]
     },
     "execution_count": 87,
     "metadata": {},
     "output_type": "execute_result"
    }
   ],
   "source": [
    "df.Timestamp = df.Timestamp.apply(zero_pad_timestamp)\n",
    "df.Timestamp"
   ]
  },
  {
   "cell_type": "code",
   "execution_count": 80,
   "metadata": {},
   "outputs": [],
   "source": [
    "df.to_csv('data/SWaT_Dataset_Attack_v0.csv', index=False)"
   ]
  }
 ],
 "metadata": {
  "kernelspec": {
   "display_name": "ganf",
   "language": "python",
   "name": "python3"
  },
  "language_info": {
   "codemirror_mode": {
    "name": "ipython",
    "version": 3
   },
   "file_extension": ".py",
   "mimetype": "text/x-python",
   "name": "python",
   "nbconvert_exporter": "python",
   "pygments_lexer": "ipython3",
   "version": "3.11.5"
  }
 },
 "nbformat": 4,
 "nbformat_minor": 2
}
